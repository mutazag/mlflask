{
 "cells": [
  {
   "cell_type": "code",
   "execution_count": 21,
   "metadata": {},
   "outputs": [
    {
     "data": {
      "text/plain": [
       "True"
      ]
     },
     "execution_count": 21,
     "metadata": {},
     "output_type": "execute_result"
    }
   ],
   "source": [
    "# load env\n",
    "import os\n",
    "from dotenv import load_dotenv\n",
    "import json\n",
    "import urllib\n",
    "from pprint import pprint\n",
    "load_dotenv()\n",
    "\n",
    "\n",
    "# install dotenv\n",
    "# pip install -U python-dotenv"
   ]
  },
  {
   "cell_type": "code",
   "execution_count": 2,
   "metadata": {},
   "outputs": [],
   "source": [
    "# dummyepurl\n",
    "url = os.environ['gpt2url']\n",
    "# dummyepkey\n",
    "api_key = os.environ['gpt2key']"
   ]
  },
  {
   "cell_type": "code",
   "execution_count": 6,
   "metadata": {},
   "outputs": [],
   "source": [
    "textinput = 'I am a happy person'\n",
    "deployment = 'none'"
   ]
  },
  {
   "cell_type": "code",
   "execution_count": 11,
   "metadata": {},
   "outputs": [],
   "source": [
    "body = str(textinput)\n",
    "payload = {\n",
    "    \"inputs\": {\n",
    "        \"input_string\": [body]\n",
    "        }\n",
    "    }\n",
    "\n",
    "try: \n",
    "    payloads = str.encode(json.dumps(payload))\n",
    "except Exception as e:\n",
    "    print(e)"
   ]
  },
  {
   "cell_type": "code",
   "execution_count": 12,
   "metadata": {},
   "outputs": [
    {
     "data": {
      "text/plain": [
       "b'{\"inputs\": {\"input_string\": [\"I am a happy person\"]}}'"
      ]
     },
     "execution_count": 12,
     "metadata": {},
     "output_type": "execute_result"
    }
   ],
   "source": [
    "payloads"
   ]
  },
  {
   "cell_type": "code",
   "execution_count": 14,
   "metadata": {},
   "outputs": [
    {
     "name": "stdout",
     "output_type": "stream",
     "text": [
      "{'response': b'[{\"0\": \"I am a happy person, but I hope everyone is proud that you are a great person too\\\\\". The comments are all very encouraging, even as you know they make me nervous. I am only 14 years old and I love to dance with my friends\"}]', 'deployment': 'gpt2-3'}\n"
     ]
    }
   ],
   "source": [
    "# The azureml-model-deployment header will force the request to go to a specific deployment.\n",
    "# Remove this header to have the request observe the endpoint traffic rules\n",
    "headers = {\n",
    "    'Content-Type':'application/json',\n",
    "    'Authorization':('Bearer '+ api_key)}\n",
    "if deployment != 'none':\n",
    "    headers['azureml-model-deployment'] = deployment\n",
    "\n",
    "req = urllib.request.Request(url, payloads, headers)\n",
    "\n",
    "try:\n",
    "    response = urllib.request.urlopen(req)\n",
    "\n",
    "    result = response.read()\n",
    "    depslot = response.headers['azureml-model-deployment']\n",
    "\n",
    "    print({'response': result, 'deployment': depslot})\n",
    "\n",
    "except urllib.error.HTTPError as error:\n",
    "    print(\"The request failed with status code: \" + str(error.code))\n",
    "\n",
    "    # Print the headers - they include the requert ID and the timestamp, which are useful for debugging the failure\n",
    "    print(error.info())\n",
    "    print(error.read().decode(\"utf8\", 'ignore'))\n",
    "    print(error.code)"
   ]
  },
  {
   "cell_type": "code",
   "execution_count": 22,
   "metadata": {},
   "outputs": [
    {
     "name": "stdout",
     "output_type": "stream",
     "text": [
      "[{'0': 'I am a happy person, but I hope everyone is proud that you are a great '\n",
      "       'person too\". The comments are all very encouraging, even as you know '\n",
      "       'they make me nervous. I am only 14 years old and I love to dance with '\n",
      "       'my friends'}]\n"
     ]
    }
   ],
   "source": [
    "text_completion_resp = json.loads(result.decode('utf-8'))\n",
    "\n",
    "pprint(text_completion_resp)"
   ]
  },
  {
   "cell_type": "code",
   "execution_count": 33,
   "metadata": {},
   "outputs": [
    {
     "name": "stdout",
     "output_type": "stream",
     "text": [
      "{'consumes': ['application/json'],\n",
      " 'definitions': {'ErrorResponse': {'properties': {'message': {'type': 'string'},\n",
      "                                                  'status_code': {'format': 'int32',\n",
      "                                                                  'type': 'integer'}},\n",
      "                                   'type': 'object'},\n",
      "                 'ServiceInput': {'example': {}, 'type': 'object'},\n",
      "                 'ServiceOutput': {'example': {}, 'type': 'object'}},\n",
      " 'info': {'description': 'API specification for the Azure Machine Learning '\n",
      "                         'service ML service',\n",
      "          'title': 'ML service',\n",
      "          'version': '1.0'},\n",
      " 'paths': {'/': {'get': {'description': 'Simple health check endpoint to '\n",
      "                                        'ensure the service is up at any given '\n",
      "                                        'point.',\n",
      "                         'operationId': 'ServiceHealthCheck',\n",
      "                         'responses': {'200': {'description': 'If service is '\n",
      "                                                              'up and running, '\n",
      "                                                              'this response '\n",
      "                                                              'will be '\n",
      "                                                              'returned with '\n",
      "                                                              'the content '\n",
      "                                                              \"'Healthy'\",\n",
      "                                               'examples': {'application/json': 'Healthy'},\n",
      "                                               'schema': {'type': 'string'}},\n",
      "                                       'default': {'description': 'The service '\n",
      "                                                                  'failed to '\n",
      "                                                                  'execute due '\n",
      "                                                                  'to an '\n",
      "                                                                  'error.',\n",
      "                                                   'schema': {'$ref': '#/definitions/ErrorResponse'}}}}},\n",
      "           '/score': {'post': {'description': \"Run web service's model and get \"\n",
      "                                              'the prediction output',\n",
      "                               'operationId': 'RunMLService',\n",
      "                               'parameters': [{'description': 'The input '\n",
      "                                                              'payload for '\n",
      "                                                              'executing the '\n",
      "                                                              'real-time '\n",
      "                                                              'machine '\n",
      "                                                              'learning '\n",
      "                                                              'service.',\n",
      "                                               'in': 'body',\n",
      "                                               'name': 'serviceInputPayload',\n",
      "                                               'schema': {'$ref': '#/definitions/ServiceInput'}}],\n",
      "                               'responses': {'200': {'description': 'The '\n",
      "                                                                    'service '\n",
      "                                                                    'processed '\n",
      "                                                                    'the input '\n",
      "                                                                    'correctly '\n",
      "                                                                    'and '\n",
      "                                                                    'provided '\n",
      "                                                                    'a result '\n",
      "                                                                    'prediction, '\n",
      "                                                                    'if '\n",
      "                                                                    'applicable.',\n",
      "                                                     'schema': {'$ref': '#/definitions/ServiceOutput'}},\n",
      "                                             'default': {'description': 'The '\n",
      "                                                                        'service '\n",
      "                                                                        'failed '\n",
      "                                                                        'to '\n",
      "                                                                        'execute '\n",
      "                                                                        'due '\n",
      "                                                                        'to an '\n",
      "                                                                        'error.',\n",
      "                                                         'schema': {'$ref': '#/definitions/ErrorResponse'}}},\n",
      "                               'security': [{'Bearer': []}]}},\n",
      "           '/swagger.json': {'get': {'description': 'Get the Swagger '\n",
      "                                                    'specification.',\n",
      "                                     'operationId': 'GetSwaggerSpec',\n",
      "                                     'parameters': [{'enum': [2, 3],\n",
      "                                                     'in': 'query',\n",
      "                                                     'name': 'version',\n",
      "                                                     'required': False,\n",
      "                                                     'type': 'integer'}],\n",
      "                                     'responses': {'200': {'description': 'The '\n",
      "                                                                          'Swagger '\n",
      "                                                                          'specification.',\n",
      "                                                           'schema': {'type': 'string'}},\n",
      "                                                   'default': {'description': 'The '\n",
      "                                                                              'service '\n",
      "                                                                              'failed '\n",
      "                                                                              'to '\n",
      "                                                                              'execute '\n",
      "                                                                              'due '\n",
      "                                                                              'to '\n",
      "                                                                              'an '\n",
      "                                                                              'error.',\n",
      "                                                               'schema': {'$ref': '#/definitions/ErrorResponse'}}}}}},\n",
      " 'produces': ['application/json'],\n",
      " 'schemes': ['https'],\n",
      " 'securityDefinitions': {'Bearer': {'description': 'For example: Bearer abc123',\n",
      "                                    'in': 'header',\n",
      "                                    'name': 'Authorization',\n",
      "                                    'type': 'apiKey'}},\n",
      " 'swagger': '2.0'}\n"
     ]
    }
   ],
   "source": [
    "# get swagger file \n",
    "url = \"https://maggpt2.australiaeast.inference.ml.azure.com/swagger.json\"\n",
    "\n",
    "api_key = os.environ['gpt2key']\n",
    "headers = {\n",
    "    'Content-Type':'application/json',\n",
    "    'Authorization':('Bearer '+ api_key)}\n",
    "req = urllib.request.Request(url, None, headers)\n",
    "response = urllib.request.urlopen(req)\n",
    "result = response.read()\n",
    "swagger = json.loads(result.decode('utf-8'))\n",
    "pprint(swagger)\n"
   ]
  },
  {
   "cell_type": "code",
   "execution_count": 34,
   "metadata": {},
   "outputs": [
    {
     "name": "stdout",
     "output_type": "stream",
     "text": [
      "{'swagger': '2.0', 'info': {'title': 'ML service', 'description': 'API specification for the Azure Machine Learning service ML service', 'version': '1.0'}, 'schemes': ['https'], 'consumes': ['application/json'], 'produces': ['application/json'], 'securityDefinitions': {'Bearer': {'type': 'apiKey', 'name': 'Authorization', 'in': 'header', 'description': 'For example: Bearer abc123'}}, 'paths': {'/': {'get': {'operationId': 'ServiceHealthCheck', 'description': 'Simple health check endpoint to ensure the service is up at any given point.', 'responses': {'200': {'description': \"If service is up and running, this response will be returned with the content 'Healthy'\", 'schema': {'type': 'string'}, 'examples': {'application/json': 'Healthy'}}, 'default': {'description': 'The service failed to execute due to an error.', 'schema': {'$ref': '#/definitions/ErrorResponse'}}}}}, '/score': {'post': {'operationId': 'RunMLService', 'description': \"Run web service's model and get the prediction output\", 'security': [{'Bearer': []}], 'parameters': [{'name': 'serviceInputPayload', 'in': 'body', 'description': 'The input payload for executing the real-time machine learning service.', 'schema': {'$ref': '#/definitions/ServiceInput'}}], 'responses': {'200': {'description': 'The service processed the input correctly and provided a result prediction, if applicable.', 'schema': {'$ref': '#/definitions/ServiceOutput'}}, 'default': {'description': 'The service failed to execute due to an error.', 'schema': {'$ref': '#/definitions/ErrorResponse'}}}}}, '/swagger.json': {'get': {'operationId': 'GetSwaggerSpec', 'description': 'Get the Swagger specification.', 'parameters': [{'name': 'version', 'in': 'query', 'required': False, 'type': 'integer', 'enum': [2, 3]}], 'responses': {'200': {'description': 'The Swagger specification.', 'schema': {'type': 'string'}}, 'default': {'description': 'The service failed to execute due to an error.', 'schema': {'$ref': '#/definitions/ErrorResponse'}}}}}}, 'definitions': {'ServiceInput': {'type': 'object', 'example': {}}, 'ServiceOutput': {'type': 'object', 'example': {}}, 'ErrorResponse': {'type': 'object', 'properties': {'status_code': {'type': 'integer', 'format': 'int32'}, 'message': {'type': 'string'}}}}}\n"
     ]
    }
   ],
   "source": [
    "print(swagger)"
   ]
  },
  {
   "cell_type": "code",
   "execution_count": null,
   "metadata": {},
   "outputs": [],
   "source": []
  }
 ],
 "metadata": {
  "kernelspec": {
   "display_name": "flask",
   "language": "python",
   "name": "python3"
  },
  "language_info": {
   "codemirror_mode": {
    "name": "ipython",
    "version": 3
   },
   "file_extension": ".py",
   "mimetype": "text/x-python",
   "name": "python",
   "nbconvert_exporter": "python",
   "pygments_lexer": "ipython3",
   "version": "3.10.4"
  },
  "orig_nbformat": 4
 },
 "nbformat": 4,
 "nbformat_minor": 2
}
